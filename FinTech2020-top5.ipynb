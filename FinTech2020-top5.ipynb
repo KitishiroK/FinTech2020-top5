{
 "cells": [
  {
   "cell_type": "code",
   "execution_count": 1,
   "metadata": {},
   "outputs": [],
   "source": [
    "from matplotlib import pyplot as plt\n",
    "import pandas as pd\n",
    "import numpy as np\n",
    "import lightgbm as lgb\n",
    "from sklearn.model_selection import train_test_split\n",
    "import datetime\n",
    "from sklearn.preprocessing import LabelEncoder\n",
    "from sklearn.metrics import precision_score, recall_score, confusion_matrix,  roc_curve, precision_recall_curve, accuracy_score, roc_auc_score,f1_score\n",
    "import warnings\n",
    "import time\n",
    "import category_encoders as ce\n",
    "from  datetime import datetime, timedelta\n",
    "pd.set_option('display.max_colwidth',200)\n",
    "import os\n",
    "warnings.filterwarnings('ignore')\n",
    "path='../data/zhao2/'#新数据目录\n",
    "#path2='../data/zhao/'#旧数据不用"
   ]
  },
  {
   "cell_type": "code",
   "execution_count": 2,
   "metadata": {},
   "outputs": [
    {
     "data": {
      "text/plain": [
       "['val_tag.csv',\n",
       " 'val_trd.csv',\n",
       " 'train_tag.csv',\n",
       " 'train_trd.csv',\n",
       " 'val_beh.csv',\n",
       " 'train_beh.csv',\n",
       " 'val_tag_b.csv',\n",
       " 'val_beh_b.csv',\n",
       " 'val_trd_b.csv']"
      ]
     },
     "execution_count": 2,
     "metadata": {},
     "output_type": "execute_result"
    }
   ],
   "source": [
    "os.listdir(path)"
   ]
  },
  {
   "cell_type": "markdown",
   "metadata": {},
   "source": [
    "#### 换上B榜测试集，名字没改沿用A榜的"
   ]
  },
  {
   "cell_type": "code",
   "execution_count": 3,
   "metadata": {},
   "outputs": [],
   "source": [
    "#val_tag_a = pd.read_csv(path+'val_tag.csv')\n",
    "#val_beh_a = pd.read_csv(path+'val_beh.csv')\n",
    "#val_trd_a = pd.read_csv(path+'val_trd.csv')\n",
    "train_tag = pd.read_csv(path+'train_tag.csv')\n",
    "train_beh = pd.read_csv(path+'train_beh.csv')\n",
    "train_trd = pd.read_csv(path+'train_trd.csv')\n",
    "val_tag_a = pd.read_csv(path+'val_tag_b.csv')\n",
    "val_beh_a = pd.read_csv(path+'val_beh_b.csv')\n",
    "val_trd_a = pd.read_csv(path+'val_trd_b.csv')"
   ]
  },
  {
   "cell_type": "code",
   "execution_count": 4,
   "metadata": {},
   "outputs": [
    {
     "data": {
      "text/plain": [
       "1232"
      ]
     },
     "execution_count": 4,
     "metadata": {},
     "output_type": "execute_result"
    }
   ],
   "source": [
    "len(set(val_beh_a.id))"
   ]
  },
  {
   "cell_type": "code",
   "execution_count": 5,
   "metadata": {},
   "outputs": [
    {
     "data": {
      "text/plain": [
       "11913"
      ]
     },
     "execution_count": 5,
     "metadata": {},
     "output_type": "execute_result"
    }
   ],
   "source": [
    "len(set(train_beh.id))"
   ]
  },
  {
   "cell_type": "raw",
   "metadata": {},
   "source": [
    "train_tag2 = pd.read_csv(path2+'train_tag.csv')\n",
    "train_beh2 = pd.read_csv(path2+'train_beh.csv')\n",
    "train_trd2 = pd.read_csv(path2+'train_trd.csv')\n",
    "train_tag2.select_dtypes(include='object').columns"
   ]
  },
  {
   "cell_type": "code",
   "execution_count": 6,
   "metadata": {},
   "outputs": [],
   "source": [
    "del train_trd['flag']\n",
    "del train_beh['flag']\n",
    "val_tag_a['flag']=3\n",
    "trd=pd.concat((train_trd, val_trd_a)).reset_index(drop=True)\n",
    "beh=pd.concat((train_beh, val_beh_a)).reset_index(drop=True)\n",
    "tag=pd.concat((train_tag, val_tag_a)).reset_index(drop=True)"
   ]
  },
  {
   "cell_type": "code",
   "execution_count": 7,
   "metadata": {},
   "outputs": [
    {
     "data": {
      "text/plain": [
       "13145"
      ]
     },
     "execution_count": 7,
     "metadata": {},
     "output_type": "execute_result"
    }
   ],
   "source": [
    "len(set(beh.id))"
   ]
  },
  {
   "cell_type": "code",
   "execution_count": 8,
   "metadata": {},
   "outputs": [
    {
     "data": {
      "text/plain": [
       "(13145, 43)"
      ]
     },
     "execution_count": 8,
     "metadata": {},
     "output_type": "execute_result"
    }
   ],
   "source": [
    "tag[tag.id.isin(set(beh.id))].shape"
   ]
  },
  {
   "cell_type": "code",
   "execution_count": 9,
   "metadata": {},
   "outputs": [
    {
     "data": {
      "text/plain": [
       "Index(['id', 'Dat_Flg1_Cd', 'Dat_Flg3_Cd', 'trx_tm'], dtype='object')"
      ]
     },
     "execution_count": 9,
     "metadata": {},
     "output_type": "execute_result"
    }
   ],
   "source": [
    "trd.select_dtypes(include='object').columns"
   ]
  },
  {
   "cell_type": "markdown",
   "metadata": {},
   "source": [
    "# tag基础信息"
   ]
  },
  {
   "cell_type": "markdown",
   "metadata": {},
   "source": [
    "### 1.根据eda填充具体的缺失值"
   ]
  },
  {
   "cell_type": "code",
   "execution_count": 10,
   "metadata": {},
   "outputs": [],
   "source": [
    "tag.loc[tag.confirm_rsk_ases_lvl_typ_cd=='\\\\N','confirm_rsk_ases_lvl_typ_cd']=7#\n",
    "tag['confirm_rsk_ases_lvl_typ_cd']=tag['confirm_rsk_ases_lvl_typ_cd'].astype(int)\n",
    "tag.loc[tag.crd_card_act_ind=='\\\\N','crd_card_act_ind']=1#3+  0~1,1\n",
    "tag['crd_card_act_ind']=tag['crd_card_act_ind'].astype(int)\n",
    "tag.loc[tag.cust_inv_rsk_endu_lvl_cd=='\\\\N','cust_inv_rsk_endu_lvl_cd']=10#10+  1~9,7\n",
    "tag['cust_inv_rsk_endu_lvl_cd']=tag['cust_inv_rsk_endu_lvl_cd'].astype(int)\n",
    "tag.loc[tag.dnl_bind_cmb_lif_ind=='\\\\N','dnl_bind_cmb_lif_ind']=1#2+  0~1,1\n",
    "tag['dnl_bind_cmb_lif_ind']=tag['dnl_bind_cmb_lif_ind'].astype(int)\n",
    "tag.loc[tag.dnl_mbl_bnk_ind=='\\\\N','dnl_mbl_bnk_ind']=1#2+  0~1,1\n",
    "tag['dnl_mbl_bnk_ind']=tag['dnl_mbl_bnk_ind'].astype(int)\n",
    "tag.loc[tag.fin_rsk_ases_grd_cd=='\\\\N','fin_rsk_ases_grd_cd']=10#\n",
    "tag['fin_rsk_ases_grd_cd']=tag['fin_rsk_ases_grd_cd'].astype(int)\n",
    "tag.loc[tag.fr_or_sh_ind=='\\\\N','fr_or_sh_ind']=1#2+  0~1,1\n",
    "tag['fr_or_sh_ind']=tag['fr_or_sh_ind'].astype(int)\n",
    "tag.loc[tag.frs_agn_dt_cnt=='\\\\N','frs_agn_dt_cnt']=7#day+  ==\n",
    "tag['frs_agn_dt_cnt']=tag['frs_agn_dt_cnt'].astype(int)\n",
    "tag.loc[tag.hav_car_grp_ind=='\\\\N','hav_car_grp_ind']=0#2+  0~1,0\n",
    "tag['hav_car_grp_ind']=tag['hav_car_grp_ind'].astype(int)\n",
    "tag.loc[tag.hav_hou_grp_ind=='\\\\N','hav_hou_grp_ind']=1#2+  0~1,1\n",
    "tag['hav_hou_grp_ind']=tag['hav_hou_grp_ind'].astype(int)\n",
    "tag.loc[tag.his_lng_ovd_day=='\\\\N','his_lng_ovd_day']=18#day+  ==\n",
    "tag['his_lng_ovd_day']=tag['his_lng_ovd_day'].astype(int)\n",
    "tag.loc[tag.hld_crd_card_grd_cd=='\\\\N','hld_crd_card_grd_cd']=20#++  ,20\n",
    "tag['hld_crd_card_grd_cd']=tag['hld_crd_card_grd_cd'].astype(int)\n",
    "tag.loc[tag.ic_ind=='\\\\N','ic_ind']=1#2+  0~1,1\n",
    "tag['ic_ind']=tag['ic_ind'].astype(int)\n",
    "tag.loc[tag.job_year=='\\\\N','job_year']=14#year+  ==\n",
    "tag['job_year']=tag['job_year'].astype(int)\n",
    "tag.loc[tag.l12_mon_fnd_buy_whl_tms=='\\\\N','l12_mon_fnd_buy_whl_tms']=53#count+  ==\n",
    "tag['l12_mon_fnd_buy_whl_tms']=tag['l12_mon_fnd_buy_whl_tms'].astype(int)\n",
    "tag.loc[tag.l12_mon_gld_buy_whl_tms=='\\\\N','l12_mon_gld_buy_whl_tms']=5#count+  ==\n",
    "tag['l12_mon_gld_buy_whl_tms']=tag['l12_mon_gld_buy_whl_tms'].astype(int)\n",
    "tag.loc[tag.l12_mon_insu_buy_whl_tms=='\\\\N','l12_mon_insu_buy_whl_tms']=6#count+  ==\n",
    "tag['l12_mon_insu_buy_whl_tms']=tag['l12_mon_insu_buy_whl_tms'].astype(int)\n",
    "tag.loc[tag.l12mon_buy_fin_mng_whl_tms=='\\\\N','l12mon_buy_fin_mng_whl_tms']=50#count+  ==\n",
    "tag['l12mon_buy_fin_mng_whl_tms']=tag['l12mon_buy_fin_mng_whl_tms'].astype(int)\n",
    "tag.loc[tag.l1y_crd_card_csm_amt_dlm_cd=='\\\\N','l1y_crd_card_csm_amt_dlm_cd']=0#6+  0~5,0\n",
    "tag['l1y_crd_card_csm_amt_dlm_cd']=tag['l1y_crd_card_csm_amt_dlm_cd'].astype(int)\n",
    "tag.loc[tag.l6mon_agn_ind=='\\\\N','l6mon_agn_ind']=1#2+  0~1,1\n",
    "tag['l6mon_agn_ind']=tag['l6mon_agn_ind'].astype(int)\n",
    "tag.loc[tag.loan_act_ind=='\\\\N','loan_act_ind']=1#2+  0~1,1\n",
    "tag['loan_act_ind']=tag['loan_act_ind'].astype(int)\n",
    "tag.loc[tag.ovd_30d_loan_tot_cnt=='\\\\N','ovd_30d_loan_tot_cnt']=1#day+  ==\n",
    "tag['ovd_30d_loan_tot_cnt']=tag['ovd_30d_loan_tot_cnt'].astype(int)\n",
    "tag.loc[tag.pot_ast_lvl_cd=='\\\\N','pot_ast_lvl_cd']=2#7+  -1~6,2\n",
    "tag['pot_ast_lvl_cd']=tag['pot_ast_lvl_cd'].astype(int)\n",
    "tag.loc[tag.tot_ast_lvl_cd=='\\\\N','tot_ast_lvl_cd']=3#7+  -1~12,3\n",
    "tag['tot_ast_lvl_cd']=tag['tot_ast_lvl_cd'].astype(int)\n",
    "tag.loc[tag.vld_rsk_ases_ind=='\\\\N','vld_rsk_ases_ind']=1#2+  0~1,1\n",
    "tag['vld_rsk_ases_ind']=tag['vld_rsk_ases_ind'].astype(int)\n",
    "\n",
    "\n",
    "tag.loc[tag.acdm_deg_cd=='\\\\N','acdm_deg_cd']='30'\n",
    "tag['acdm_deg_cd']=tag['acdm_deg_cd'].fillna('30')\n",
    "\n",
    "tag.loc[tag.atdd_type=='\\\\N','atdd_type']=2\n",
    "tag['atdd_type']=tag['atdd_type'].fillna(2)\n",
    "tag['atdd_type']=tag['atdd_type'].astype(int)\n",
    "\n",
    "tag.loc[tag.deg_cd=='\\\\N','deg_cd']='E'\n",
    "tag['deg_cd']=tag['deg_cd'].fillna('K')\n",
    "\n",
    "tag.loc[tag.edu_deg_cd=='\\\\N','edu_deg_cd']='O'\n",
    "tag['edu_deg_cd']=tag['edu_deg_cd'].fillna('N')\n",
    "\n",
    "#tag.loc[tag['cur_credit_min_opn_dt_cnt'] == -1,'cur_credit_min_opn_dt_cnt'] = 4595\n",
    "#tag.loc[tag['cur_debit_min_opn_dt_cnt'] == -1,'cur_debit_min_opn_dt_cnt'] = 2077   \n",
    "#年龄分箱\n",
    "tag['age_range'] = pd.cut(tag['age'], [0, 19, 29, 39, 49, 59, 100], labels=False)"
   ]
  },
  {
   "cell_type": "markdown",
   "metadata": {},
   "source": [
    "### 2.类别编码"
   ]
  },
  {
   "cell_type": "code",
   "execution_count": 11,
   "metadata": {},
   "outputs": [
    {
     "data": {
      "text/plain": [
       "Index(['id', 'gdr_cd', 'mrg_situ_cd', 'edu_deg_cd', 'acdm_deg_cd', 'deg_cd'], dtype='object')"
      ]
     },
     "execution_count": 11,
     "metadata": {},
     "output_type": "execute_result"
    }
   ],
   "source": [
    "tag.select_dtypes(include='object').columns"
   ]
  },
  {
   "cell_type": "code",
   "execution_count": 12,
   "metadata": {},
   "outputs": [],
   "source": [
    "le = LabelEncoder()#仅仅变成数字  \n",
    "for i in ['acdm_deg_cd', 'deg_cd', 'edu_deg_cd', 'gdr_cd', 'mrg_situ_cd']:    \n",
    "    tag[i] = le.fit_transform(tag[i])"
   ]
  },
  {
   "cell_type": "code",
   "execution_count": 13,
   "metadata": {},
   "outputs": [
    {
     "data": {
      "text/plain": [
       "Index(['id'], dtype='object')"
      ]
     },
     "execution_count": 13,
     "metadata": {},
     "output_type": "execute_result"
    }
   ],
   "source": [
    "tag.select_dtypes(include='object').columns"
   ]
  },
  {
   "cell_type": "markdown",
   "metadata": {},
   "source": [
    "# trd交易数据"
   ]
  },
  {
   "cell_type": "markdown",
   "metadata": {},
   "source": [
    "### 1.日期数据转换"
   ]
  },
  {
   "cell_type": "code",
   "execution_count": 14,
   "metadata": {},
   "outputs": [],
   "source": [
    "trd[\"trx_tm\"] = pd.to_datetime(trd[\"trx_tm\"])\n",
    "trd['Week']=trd['trx_tm'].apply(lambda x:int(x.strftime('%U')))\n",
    "date_features = {\n",
    "        \"wday\": \"weekday\",\n",
    "        \"month\": \"month\",\n",
    "        \"mday\": \"day\",\n",
    "    }\n",
    "for date_feat_name, date_feat_func in date_features.items(): \n",
    "    trd[date_feat_name] = getattr(trd[\"trx_tm\"].dt, date_feat_func).astype(\"int16\")\n",
    "trd['nday']=trd[\"trx_tm\"]-trd.trx_tm.min()\n",
    "trd['nday']=trd['nday'].apply(lambda x:int(str(x)[:2]))"
   ]
  },
  {
   "cell_type": "code",
   "execution_count": 15,
   "metadata": {},
   "outputs": [
    {
     "data": {
      "text/html": [
       "<div>\n",
       "<style scoped>\n",
       "    .dataframe tbody tr th:only-of-type {\n",
       "        vertical-align: middle;\n",
       "    }\n",
       "\n",
       "    .dataframe tbody tr th {\n",
       "        vertical-align: top;\n",
       "    }\n",
       "\n",
       "    .dataframe thead th {\n",
       "        text-align: right;\n",
       "    }\n",
       "</style>\n",
       "<table border=\"1\" class=\"dataframe\">\n",
       "  <thead>\n",
       "    <tr style=\"text-align: right;\">\n",
       "      <th></th>\n",
       "      <th>id</th>\n",
       "      <th>Dat_Flg1_Cd</th>\n",
       "      <th>Dat_Flg3_Cd</th>\n",
       "      <th>Trx_Cod1_Cd</th>\n",
       "      <th>Trx_Cod2_Cd</th>\n",
       "      <th>trx_tm</th>\n",
       "      <th>cny_trx_amt</th>\n",
       "      <th>Week</th>\n",
       "      <th>wday</th>\n",
       "      <th>month</th>\n",
       "      <th>mday</th>\n",
       "      <th>nday</th>\n",
       "    </tr>\n",
       "  </thead>\n",
       "  <tbody>\n",
       "    <tr>\n",
       "      <th>0</th>\n",
       "      <td>UFDC88A</td>\n",
       "      <td>B</td>\n",
       "      <td>B</td>\n",
       "      <td>1</td>\n",
       "      <td>116</td>\n",
       "      <td>2019-06-20 07:15:28</td>\n",
       "      <td>-127.99</td>\n",
       "      <td>24</td>\n",
       "      <td>3</td>\n",
       "      <td>6</td>\n",
       "      <td>20</td>\n",
       "      <td>50</td>\n",
       "    </tr>\n",
       "    <tr>\n",
       "      <th>1</th>\n",
       "      <td>UFDC88A</td>\n",
       "      <td>B</td>\n",
       "      <td>B</td>\n",
       "      <td>1</td>\n",
       "      <td>116</td>\n",
       "      <td>2019-06-16 10:09:13</td>\n",
       "      <td>-55.88</td>\n",
       "      <td>24</td>\n",
       "      <td>6</td>\n",
       "      <td>6</td>\n",
       "      <td>16</td>\n",
       "      <td>46</td>\n",
       "    </tr>\n",
       "    <tr>\n",
       "      <th>2</th>\n",
       "      <td>UFDC88A</td>\n",
       "      <td>B</td>\n",
       "      <td>B</td>\n",
       "      <td>1</td>\n",
       "      <td>136</td>\n",
       "      <td>2019-05-14 16:11:32</td>\n",
       "      <td>-557.00</td>\n",
       "      <td>19</td>\n",
       "      <td>1</td>\n",
       "      <td>5</td>\n",
       "      <td>14</td>\n",
       "      <td>13</td>\n",
       "    </tr>\n",
       "    <tr>\n",
       "      <th>3</th>\n",
       "      <td>UFDC88A</td>\n",
       "      <td>B</td>\n",
       "      <td>B</td>\n",
       "      <td>1</td>\n",
       "      <td>136</td>\n",
       "      <td>2019-05-19 21:54:40</td>\n",
       "      <td>-77.80</td>\n",
       "      <td>20</td>\n",
       "      <td>6</td>\n",
       "      <td>5</td>\n",
       "      <td>19</td>\n",
       "      <td>18</td>\n",
       "    </tr>\n",
       "    <tr>\n",
       "      <th>4</th>\n",
       "      <td>UFDC88A</td>\n",
       "      <td>B</td>\n",
       "      <td>B</td>\n",
       "      <td>1</td>\n",
       "      <td>113</td>\n",
       "      <td>2019-06-18 08:23:59</td>\n",
       "      <td>-271.62</td>\n",
       "      <td>24</td>\n",
       "      <td>1</td>\n",
       "      <td>6</td>\n",
       "      <td>18</td>\n",
       "      <td>48</td>\n",
       "    </tr>\n",
       "  </tbody>\n",
       "</table>\n",
       "</div>"
      ],
      "text/plain": [
       "        id Dat_Flg1_Cd Dat_Flg3_Cd  Trx_Cod1_Cd  Trx_Cod2_Cd  \\\n",
       "0  UFDC88A           B           B            1          116   \n",
       "1  UFDC88A           B           B            1          116   \n",
       "2  UFDC88A           B           B            1          136   \n",
       "3  UFDC88A           B           B            1          136   \n",
       "4  UFDC88A           B           B            1          113   \n",
       "\n",
       "               trx_tm  cny_trx_amt  Week  wday  month  mday  nday  \n",
       "0 2019-06-20 07:15:28      -127.99    24     3      6    20    50  \n",
       "1 2019-06-16 10:09:13       -55.88    24     6      6    16    46  \n",
       "2 2019-05-14 16:11:32      -557.00    19     1      5    14    13  \n",
       "3 2019-05-19 21:54:40       -77.80    20     6      5    19    18  \n",
       "4 2019-06-18 08:23:59      -271.62    24     1      6    18    48  "
      ]
     },
     "execution_count": 15,
     "metadata": {},
     "output_type": "execute_result"
    }
   ],
   "source": [
    "trd.head()"
   ]
  },
  {
   "cell_type": "markdown",
   "metadata": {},
   "source": [
    "### 2.用户借还金额特征"
   ]
  },
  {
   "cell_type": "code",
   "execution_count": 16,
   "metadata": {},
   "outputs": [],
   "source": [
    "trd['Dat_Flg1_Flg3_Cd']=trd['Dat_Flg1_Cd']+trd['Dat_Flg3_Cd']\n",
    "trd['Dat_Flg3_Cod1_Cd']=trd['Dat_Flg3_Cd']+trd['Trx_Cod1_Cd'].astype(str)\n",
    "trd['Dat_Flg1_Cod1_Cd']=trd['Dat_Flg1_Cd']+trd['Trx_Cod1_Cd'].astype(str)\n",
    "\n",
    "trd['Dat_Flg1_Week']=trd['Dat_Flg1_Cd']+trd['Week'].astype(str)\n",
    "trd['Dat_Flg1_wday']=trd['Dat_Flg1_Cd']+trd['wday'].astype(str)\n",
    "trd['Dat_Flg1_month']=trd['Dat_Flg1_Cd']+trd['month'].astype(str)\n",
    "\n",
    "#trd['Dat_Flg1_Flg3_Cod1_Cd']=trd['Dat_Flg1_Cd']+trd['Dat_Flg3_Cd']+trd['Trx_Cod1_Cd'].astype(str)\n",
    "trd_=pd.DataFrame()\n",
    "trd_['id']=pd.Series(list(set(trd.id)))\n",
    "\n",
    "#,'Cod2':'Trx_Cod2_Cd'\n",
    "all={'Flg1':'Dat_Flg1_Cd','Flg3':'Dat_Flg3_Cd','Cod1':'Trx_Cod1_Cd','Cod2':'Trx_Cod2_Cd','Week':'Week','wday':'wday','month':'month',\n",
    "    'Flg1Flg3':'Dat_Flg1_Flg3_Cd','Flg3Cod1':'Dat_Flg3_Cod1_Cd','Flg1Cod1':'Dat_Flg1_Cod1_Cd',\n",
    "     'Flg1Week':'Dat_Flg1_Week','Flg1wday':'Dat_Flg1_wday','Flg1month':'Dat_Flg1_month'}\n",
    "for col,v in all.items():\n",
    "    temp=trd.groupby(['id',v],as_index=False)['cny_trx_amt'].agg({\n",
    "            col+'_min':'min',\n",
    "            col+'_max':'max',\n",
    "            col+'_sum':'sum',\n",
    "            col+'_mean':'mean',\n",
    "            col+'_count':'count',\n",
    "            col+'_median':'median',\n",
    "            col+'_std':'std'\n",
    "        })\n",
    "    \n",
    "    temp=temp.set_index(['id',v])\n",
    "    temp=temp.unstack()\n",
    "    lam=sorted(list(set(trd[v])))\n",
    "    trd_col=[]\n",
    "    for y in [col+'_min',col+'_max',col+'_sum',col+'_mean',col+'_count',col+'_median',col+'_std']:\n",
    "        trd_col+=(list(map(lambda x:y+'_'+str(x),lam)))\n",
    "    temp.columns = trd_col\n",
    "    temp.reset_index(inplace=True) \n",
    "    trd_=pd.merge(trd_,temp,on='id',how='left')      \n",
    "trd_.fillna(0., inplace = True)"
   ]
  },
  {
   "cell_type": "markdown",
   "metadata": {},
   "source": [
    "### 3.用户每天的还借次数统计-------按借还款"
   ]
  },
  {
   "cell_type": "code",
   "execution_count": 18,
   "metadata": {},
   "outputs": [],
   "source": [
    "trd_count=trd[['id','Dat_Flg1_Cd','trx_tm','nday','cny_trx_amt']].copy()\n",
    "temp=trd_count.groupby(['id','Dat_Flg1_Cd','nday'],as_index=False)['cny_trx_amt'].agg({'day_Flg1_count': 'count'})\n",
    "v='Dat_Flg1_Cd'\n",
    "col='day_Flg1_count'\n",
    "temp=temp.groupby(['id',v],as_index=False)['day_Flg1_count'].agg({\n",
    "            col+'_min':'min',\n",
    "            col+'_max':'max',\n",
    "            col+'_sum':'sum',\n",
    "            col+'_mean':'mean'\n",
    "        })\n",
    "temp=temp.set_index(['id',v])\n",
    "temp=temp.unstack()\n",
    "lam=sorted(list(set(trd[v])))\n",
    "trd_col=[]\n",
    "for y in [col+'_min',col+'_max',col+'_sum',col+'_mean']:\n",
    "    trd_col+=(list(map(lambda x:y+'_'+str(x),lam)))\n",
    "temp.columns = trd_col\n",
    "temp.reset_index(inplace=True) \n",
    "trd_=pd.merge(trd_,temp,on='id',how='left')\n",
    "trd_.fillna(0., inplace = True)    "
   ]
  },
  {
   "cell_type": "markdown",
   "metadata": {},
   "source": [
    "### 4.用户活跃天数-------按借还款"
   ]
  },
  {
   "cell_type": "code",
   "execution_count": 19,
   "metadata": {},
   "outputs": [],
   "source": [
    "col='Flg1_days'\n",
    "v='Dat_Flg1_Cd'\n",
    "temp=trd_count.groupby(['id',v],as_index=False)['nday'].agg({'Flg1_days': 'count'})\n",
    "temp=temp.set_index(['id',v])\n",
    "temp=temp.unstack()\n",
    "lam=sorted(list(set(trd[v])))\n",
    "trd_col=(list(map(lambda x:col+'_'+str(x),lam)))\n",
    "temp.columns = trd_col\n",
    "temp.reset_index(inplace=True) \n",
    "trd_=pd.merge(trd_,temp,on='id',how='left')\n",
    "trd_.fillna(0., inplace = True)  "
   ]
  },
  {
   "cell_type": "code",
   "execution_count": 20,
   "metadata": {},
   "outputs": [],
   "source": [
    "data=pd.merge(tag,trd_,on='id',how='left')"
   ]
  },
  {
   "cell_type": "code",
   "execution_count": 21,
   "metadata": {},
   "outputs": [
    {
     "data": {
      "text/plain": [
       "id                       0\n",
       "flag                     0\n",
       "gdr_cd                   0\n",
       "age                      0\n",
       "mrg_situ_cd              0\n",
       "                        ..\n",
       "day_Flg1_count_sum_C     0\n",
       "day_Flg1_count_mean_B    0\n",
       "day_Flg1_count_mean_C    0\n",
       "Flg1_days_B              0\n",
       "Flg1_days_C              0\n",
       "Length: 1041, dtype: int64"
      ]
     },
     "execution_count": 21,
     "metadata": {},
     "output_type": "execute_result"
    }
   ],
   "source": [
    "data.fillna(0., inplace = True)\n",
    "data.isnull().sum()"
   ]
  },
  {
   "cell_type": "code",
   "execution_count": 22,
   "metadata": {},
   "outputs": [
    {
     "data": {
      "text/plain": [
       "(43923, 1041)"
      ]
     },
     "execution_count": 22,
     "metadata": {},
     "output_type": "execute_result"
    }
   ],
   "source": [
    "data.shape"
   ]
  },
  {
   "cell_type": "markdown",
   "metadata": {},
   "source": [
    "# 划分训练测试集，验证集随机采样20%，避免本地线下分数过高"
   ]
  },
  {
   "cell_type": "code",
   "execution_count": 23,
   "metadata": {},
   "outputs": [],
   "source": [
    "df_test = data[data['flag']==3].copy()\n",
    "df_train = data[data['flag']!=3].copy()"
   ]
  },
  {
   "cell_type": "code",
   "execution_count": 25,
   "metadata": {},
   "outputs": [],
   "source": [
    "# y_vaild与测试集长不多用的全部train的交叉 \n",
    "#否则请跳过这一步\n",
    "df_train=df_train.sample(frac=1.0)\n",
    "df_train = df_train.reset_index()\n",
    "del df_train['index']\n",
    "vaild = df_train.loc[31923:39922,]\n",
    "df_train = df_train.loc[0:31923,]"
   ]
  },
  {
   "cell_type": "markdown",
   "metadata": {},
   "source": [
    "## 1.构造新特征"
   ]
  },
  {
   "cell_type": "code",
   "execution_count": 26,
   "metadata": {},
   "outputs": [
    {
     "name": "stdout",
     "output_type": "stream",
     "text": [
      "Fold: 1\n",
      "Fold: 2\n",
      "Fold: 3\n",
      "Fold: 4\n",
      "Fold: 5\n"
     ]
    }
   ],
   "source": [
    "from sklearn.model_selection import KFold, StratifiedKFold\n",
    "N_SPLITS = 5\n",
    "SEED = 100\n",
    "\n",
    "folds = KFold(n_splits=N_SPLITS,shuffle = False, random_state=SEED)\n",
    "#['cur_debit_cnt','age','job_year','frs_agn_dt_cnt','l12mon_buy_fin_mng_whl_tms','l12_mon_fnd_buy_whl_tms','l12_mon_insu_buy_whl_tms','l12_mon_gld_buy_whl_tms','his_lng_ovd_day']\n",
    "#['ovd_30d_loan_tot_cnt']\n",
    "#'cur_credit_min_opn_dt_cnt_range','cur_debit_min_opn_dt_cnt_range',\n",
    "target_mean_list =['cur_credit_cnt','cur_debit_crd_lvl','hld_crd_card_grd_cd','crd_card_act_ind','l1y_crd_card_csm_amt_dlm_cd','atdd_type','perm_crd_lmt_cd','gdr_cd','mrg_situ_cd','edu_deg_cd','acdm_deg_cd','deg_cd','ic_ind','fr_or_sh_ind','dnl_mbl_bnk_ind','dnl_bind_cmb_lif_ind','hav_car_grp_ind','hav_hou_grp_ind','l6mon_agn_ind','vld_rsk_ases_ind','fin_rsk_ases_grd_cd','confirm_rsk_ases_lvl_typ_cd','cust_inv_rsk_endu_lvl_cd','l6mon_daim_aum_cd','tot_ast_lvl_cd','pot_ast_lvl_cd','bk1_cur_year_mon_avg_agn_amt_cd','loan_act_ind','pl_crd_lmt_cd']\n",
    "#for col in target_mean_list:\n",
    "#    df_train[col+'_target']=np.NAN\n",
    "for fold_, (trn_idx, val_idx) in enumerate(folds.split(df_train)):\n",
    "    print('Fold:',fold_+1)\n",
    "    tr_x = df_train.iloc[trn_idx,:] \n",
    "    vl_x = df_train.iloc[val_idx,:]  \n",
    "\n",
    "    for col in target_mean_list:\n",
    "        temp=tr_x.groupby([col],as_index=False)['flag'].agg({col+'_sum':'sum',col+'_count':'count'})\n",
    "        temp[col+'_target']=temp[col+'_sum']/temp[col+'_count']\n",
    "        df_train.loc[val_idx,col+'_target']=list(pd.merge(df_train.loc[val_idx,col],temp[[col,col+'_target']],on=col,how='left')[col+'_target'])\n",
    "        \n",
    "# y_vaild与测试集长不多用的全部train的交叉 20200502 23:58:00\n",
    "for col in target_mean_list:\n",
    "    temp=df_train.groupby([col],as_index=False)['flag'].agg({col+'_sum':'sum',col+'_count':'count'})\n",
    "    temp[col+'_target']=temp[col+'_sum']/temp[col+'_count']\n",
    "    vaild[col+'_target'] = list(pd.merge(vaild[col],temp[[col,col+'_target']],on=col,how='left')[col+'_target'])\n",
    "\n",
    "for col in target_mean_list:\n",
    "    temp=df_train.groupby([col],as_index=False)['flag'].agg({col+'_sum':'sum',col+'_count':'count'})\n",
    "    temp[col+'_target']=temp[col+'_sum']/temp[col+'_count']\n",
    "    df_test[col+'_target'] = list(pd.merge(df_test[col],temp[[col,col+'_target']],on=col,how='left')[col+'_target'])\n"
   ]
  },
  {
   "cell_type": "code",
   "execution_count": 27,
   "metadata": {},
   "outputs": [
    {
     "data": {
      "text/plain": [
       "(31924, 1070)"
      ]
     },
     "execution_count": 27,
     "metadata": {},
     "output_type": "execute_result"
    }
   ],
   "source": [
    "df_train.shape"
   ]
  },
  {
   "cell_type": "raw",
   "metadata": {},
   "source": [
    "# y_vaild也是五折交叉的\n",
    "y = df_train.pop('flag')\n",
    "feature = list(filter(lambda x: x not in ['flag','id'], df_train.columns))\n",
    "X = df_train[feature]\n",
    "X_train, X_valid, y_train, y_valid = train_test_split(X, y, test_size=0.2, random_state=42)"
   ]
  },
  {
   "cell_type": "code",
   "execution_count": 28,
   "metadata": {},
   "outputs": [],
   "source": [
    "y_train = df_train.pop('flag')\n",
    "feature = list(filter(lambda x: x not in ['flag','id','index'], df_train.columns))\n",
    "X_train = df_train[feature]\n",
    "X_valid = vaild[feature]\n",
    "y_valid = vaild.pop('flag')"
   ]
  },
  {
   "cell_type": "code",
   "execution_count": 29,
   "metadata": {},
   "outputs": [
    {
     "data": {
      "text/plain": [
       "(31924, 1068)"
      ]
     },
     "execution_count": 29,
     "metadata": {},
     "output_type": "execute_result"
    }
   ],
   "source": [
    "X_train.shape"
   ]
  },
  {
   "cell_type": "markdown",
   "metadata": {},
   "source": [
    "## 2.舍弃目标编码，对类别特征进行WOEEncoder编码"
   ]
  },
  {
   "cell_type": "code",
   "execution_count": 30,
   "metadata": {},
   "outputs": [],
   "source": [
    "oof = pd.DataFrame([])\n",
    "target_mean_list =['cur_credit_cnt','cur_debit_crd_lvl','hld_crd_card_grd_cd','crd_card_act_ind','l1y_crd_card_csm_amt_dlm_cd','atdd_type','perm_crd_lmt_cd','gdr_cd','mrg_situ_cd','edu_deg_cd','acdm_deg_cd','deg_cd','ic_ind','fr_or_sh_ind','dnl_mbl_bnk_ind','dnl_bind_cmb_lif_ind','hav_car_grp_ind','hav_hou_grp_ind','l6mon_agn_ind','vld_rsk_ases_ind','fin_rsk_ases_grd_cd','confirm_rsk_ases_lvl_typ_cd','cust_inv_rsk_endu_lvl_cd','l6mon_daim_aum_cd','tot_ast_lvl_cd','pot_ast_lvl_cd','bk1_cur_year_mon_avg_agn_amt_cd','loan_act_ind','pl_crd_lmt_cd']\n",
    "target_mean_list2=[]\n",
    "#oof['age_range_WOE']=np.NAN\n",
    "from sklearn.model_selection import StratifiedKFold\n",
    "for tr_idx, oof_idx in StratifiedKFold(n_splits=5, random_state=2020, shuffle=True).split(X_train, y_train):\n",
    "    #for col in target_mean_list2:\n",
    "    woe_encoder = ce.WOEEncoder(cols = target_mean_list)\n",
    "    woe_encoder.fit(X_train.loc[tr_idx, target_mean_list], y_train.loc[tr_idx])\n",
    "    oof = oof.append(woe_encoder.transform(X_train.loc[oof_idx, target_mean_list]), ignore_index=False)\n",
    "for i in target_mean_list:\n",
    "    target_mean_list2.append(i+'_woe')\n",
    "oof.columns=target_mean_list2\n",
    "X_train=X_train.join(oof) \n",
    "\n",
    "woe_encoder = ce.WOEEncoder(cols = target_mean_list)\n",
    "woe_encoder.fit(X_train[target_mean_list], y_train);\n",
    "valid_oof = woe_encoder.transform(X_valid[target_mean_list])\n",
    "valid_oof.columns=target_mean_list2\n",
    "X_valid=X_valid.join(valid_oof)\n",
    "\n",
    "test_oof = woe_encoder.transform(df_test[target_mean_list])\n",
    "test_oof.columns=target_mean_list2\n",
    "df_test=df_test.join(test_oof)"
   ]
  },
  {
   "cell_type": "code",
   "execution_count": 31,
   "metadata": {},
   "outputs": [
    {
     "data": {
      "text/plain": [
       "(31924, 1097)"
      ]
     },
     "execution_count": 31,
     "metadata": {},
     "output_type": "execute_result"
    }
   ],
   "source": [
    "X_train.shape"
   ]
  },
  {
   "cell_type": "markdown",
   "metadata": {},
   "source": [
    "## 20200512临时构造的特征并做了WOEEncoder编码（发现拥有卡天数特征比较重要，并加上一些交叉特征）"
   ]
  },
  {
   "cell_type": "code",
   "execution_count": 35,
   "metadata": {},
   "outputs": [],
   "source": [
    "X_train['cur_credit_min_opn_dt_cnt_range'] = pd.cut(X_train['cur_credit_min_opn_dt_cnt'], [-2, 0, 180, 360, 720, 1080,1440,1800,2160,2520,2880,3240,3600,3960,4320,4680,5040,5400,5760,6120 ], labels=False)\n",
    "X_train['cur_debit_min_opn_dt_cnt_range'] = pd.cut(X_train['cur_debit_min_opn_dt_cnt'], [-2, 0, 180, 360, 720, 1080,1440,1800,2160,2520,2880,3240,3600,3960,4320,4680,5040,5400,5760,6120,6480,6840,7200,7560,7920,8280,10000], labels=False)\n",
    "\n",
    "X_valid['cur_credit_min_opn_dt_cnt_range'] = pd.cut(X_valid['cur_credit_min_opn_dt_cnt'], [-2, 0, 180, 360, 720, 1080,1440,1800,2160,2520,2880,3240,3600,3960,4320,4680,5040,5400,5760,6120 ], labels=False)\n",
    "X_valid['cur_debit_min_opn_dt_cnt_range'] = pd.cut(X_valid['cur_debit_min_opn_dt_cnt'], [-2, 0, 180, 360, 720, 1080,1440,1800,2160,2520,2880,3240,3600,3960,4320,4680,5040,5400,5760,6120,6480,6840,7200,7560,7920,8280,10000], labels=False)\n",
    "\n",
    "df_test['cur_credit_min_opn_dt_cnt_range'] = pd.cut(df_test['cur_credit_min_opn_dt_cnt'], [-2, 0, 180, 360, 720, 1080,1440,1800,2160,2520,2880,3240,3600,3960,4320,4680,5040,5400,5760,6120 ], labels=False)\n",
    "df_test['cur_debit_min_opn_dt_cnt_range'] = pd.cut(df_test['cur_debit_min_opn_dt_cnt'], [-2, 0, 180, 360, 720, 1080,1440,1800,2160,2520,2880,3240,3600,3960,4320,4680,5040,5400,5760,6120,6480,6840,7200,7560,7920,8280,10000], labels=False)\n",
    "\n",
    "X_train['gdr_cd_age_range']=X_train['gdr_cd'].astype(str)+'_'+X_train['age_range'].astype(str)\n",
    "X_train['gdr_cd_acdm']=X_train['acdm_deg_cd'].astype(str)+'_'+X_train['gdr_cd'].astype(str)\n",
    "X_train['age_range_acdm']=X_train['acdm_deg_cd'].astype(str)+'_'+X_train['age_range'].astype(str)\n",
    "X_train['acdm_gdr_cd_age_range']=X_train['acdm_deg_cd'].astype(str)+'_'+X_train['gdr_cd'].astype(str)+'_'+X_train['age_range'].astype(str)\n",
    "\n",
    "X_valid['gdr_cd_age_range']=X_valid['gdr_cd'].astype(str)+'_'+X_valid['age_range'].astype(str)\n",
    "X_valid['gdr_cd_acdm']=X_valid['acdm_deg_cd'].astype(str)+'_'+X_valid['gdr_cd'].astype(str)\n",
    "X_valid['age_range_acdm']=X_valid['acdm_deg_cd'].astype(str)+'_'+X_valid['age_range'].astype(str)\n",
    "X_valid['acdm_gdr_cd_age_range']=X_valid['acdm_deg_cd'].astype(str)+'_'+X_valid['gdr_cd'].astype(str)+'_'+X_valid['age_range'].astype(str)\n",
    "\n",
    "df_test['gdr_cd_age_range']=df_test['gdr_cd'].astype(str)+'_'+df_test['age_range'].astype(str)\n",
    "df_test['gdr_cd_acdm']=df_test['acdm_deg_cd'].astype(str)+'_'+df_test['gdr_cd'].astype(str)\n",
    "df_test['age_range_acdm']=df_test['acdm_deg_cd'].astype(str)+'_'+df_test['age_range'].astype(str)\n",
    "df_test['acdm_gdr_cd_age_range']=df_test['acdm_deg_cd'].astype(str)+'_'+df_test['gdr_cd'].astype(str)+'_'+df_test['age_range'].astype(str)\n",
    "\n",
    "oof = pd.DataFrame([])\n",
    "target_mean_list =['cur_credit_min_opn_dt_cnt_range','cur_debit_min_opn_dt_cnt_range','gdr_cd_age_range','gdr_cd_acdm','age_range_acdm','acdm_gdr_cd_age_range']\n",
    "target_mean_list2=[]\n",
    "#oof['age_range_WOE']=np.NAN\n",
    "from sklearn.model_selection import StratifiedKFold\n",
    "for tr_idx, oof_idx in StratifiedKFold(n_splits=5, random_state=2020, shuffle=False).split(X_train, y_train):\n",
    "    #for col in target_mean_list2:\n",
    "    woe_encoder = ce.WOEEncoder(cols = target_mean_list)\n",
    "    woe_encoder.fit(X_train.loc[tr_idx, target_mean_list], y_train.loc[tr_idx])\n",
    "    oof = oof.append(woe_encoder.transform(X_train.loc[oof_idx, target_mean_list]), ignore_index=False)\n",
    "for i in target_mean_list:\n",
    "    target_mean_list2.append(i+'_woe')\n",
    "oof.columns=target_mean_list2\n",
    "\n",
    "X_train=X_train.join(oof) \n",
    "\n",
    "woe_encoder = ce.WOEEncoder(cols = target_mean_list)\n",
    "woe_encoder.fit(X_train[target_mean_list], y_train);\n",
    "valid_oof = woe_encoder.transform(X_valid[target_mean_list])\n",
    "valid_oof.columns=target_mean_list2\n",
    "X_valid=X_valid.join(valid_oof)\n",
    "\n",
    "test_oof = woe_encoder.transform(df_test[target_mean_list])\n",
    "test_oof.columns=target_mean_list2\n",
    "df_test=df_test.join(test_oof)\n",
    "\n",
    "for i in target_mean_list:\n",
    "    del X_train[i]\n",
    "    del X_valid[i]\n",
    "    del df_test[i]"
   ]
  },
  {
   "cell_type": "markdown",
   "metadata": {},
   "source": [
    "## lgb单模型线下分数0.7724651154341885 线上 0.78514"
   ]
  },
  {
   "cell_type": "code",
   "execution_count": 36,
   "metadata": {},
   "outputs": [
    {
     "name": "stdout",
     "output_type": "stream",
     "text": [
      "Training until validation scores don't improve for 1000 rounds\n",
      "[50]\ttraining's l2: 0.151188\ttraining's auc: 0.794945\tvalid_1's l2: 0.153534\tvalid_1's auc: 0.761468\n",
      "[100]\ttraining's l2: 0.139568\ttraining's auc: 0.810246\tvalid_1's l2: 0.144567\tvalid_1's auc: 0.764014\n",
      "[150]\ttraining's l2: 0.132728\ttraining's auc: 0.82787\tvalid_1's l2: 0.140177\tvalid_1's auc: 0.765955\n",
      "[200]\ttraining's l2: 0.127934\ttraining's auc: 0.845092\tvalid_1's l2: 0.137836\tvalid_1's auc: 0.767255\n",
      "[250]\ttraining's l2: 0.124157\ttraining's auc: 0.859861\tvalid_1's l2: 0.136507\tvalid_1's auc: 0.768589\n",
      "[300]\ttraining's l2: 0.120875\ttraining's auc: 0.872009\tvalid_1's l2: 0.135656\tvalid_1's auc: 0.770102\n",
      "[350]\ttraining's l2: 0.11784\ttraining's auc: 0.883088\tvalid_1's l2: 0.13504\tvalid_1's auc: 0.77094\n",
      "[400]\ttraining's l2: 0.115032\ttraining's auc: 0.89211\tvalid_1's l2: 0.134581\tvalid_1's auc: 0.772054\n",
      "[450]\ttraining's l2: 0.112387\ttraining's auc: 0.899744\tvalid_1's l2: 0.13426\tvalid_1's auc: 0.772441\n",
      "[500]\ttraining's l2: 0.109912\ttraining's auc: 0.906183\tvalid_1's l2: 0.134116\tvalid_1's auc: 0.772012\n",
      "[550]\ttraining's l2: 0.107525\ttraining's auc: 0.91182\tvalid_1's l2: 0.133994\tvalid_1's auc: 0.771813\n",
      "[600]\ttraining's l2: 0.105277\ttraining's auc: 0.916614\tvalid_1's l2: 0.133908\tvalid_1's auc: 0.771579\n",
      "[650]\ttraining's l2: 0.103037\ttraining's auc: 0.920973\tvalid_1's l2: 0.133846\tvalid_1's auc: 0.771714\n",
      "[700]\ttraining's l2: 0.100921\ttraining's auc: 0.924884\tvalid_1's l2: 0.133798\tvalid_1's auc: 0.77164\n",
      "[750]\ttraining's l2: 0.0988984\ttraining's auc: 0.928333\tvalid_1's l2: 0.133769\tvalid_1's auc: 0.771321\n",
      "[800]\ttraining's l2: 0.0969217\ttraining's auc: 0.931647\tvalid_1's l2: 0.133749\tvalid_1's auc: 0.771428\n",
      "[850]\ttraining's l2: 0.0950618\ttraining's auc: 0.934586\tvalid_1's l2: 0.133743\tvalid_1's auc: 0.771502\n",
      "[900]\ttraining's l2: 0.0932362\ttraining's auc: 0.93746\tvalid_1's l2: 0.133738\tvalid_1's auc: 0.771623\n",
      "[950]\ttraining's l2: 0.0914643\ttraining's auc: 0.9401\tvalid_1's l2: 0.133763\tvalid_1's auc: 0.771902\n",
      "[1000]\ttraining's l2: 0.0897767\ttraining's auc: 0.942594\tvalid_1's l2: 0.133796\tvalid_1's auc: 0.77176\n",
      "[1050]\ttraining's l2: 0.0881273\ttraining's auc: 0.944964\tvalid_1's l2: 0.133754\tvalid_1's auc: 0.77211\n",
      "[1100]\ttraining's l2: 0.0865287\ttraining's auc: 0.947229\tvalid_1's l2: 0.133782\tvalid_1's auc: 0.772001\n",
      "[1150]\ttraining's l2: 0.0849818\ttraining's auc: 0.94929\tvalid_1's l2: 0.133809\tvalid_1's auc: 0.771904\n",
      "[1200]\ttraining's l2: 0.0834807\ttraining's auc: 0.951284\tvalid_1's l2: 0.13384\tvalid_1's auc: 0.771775\n",
      "[1250]\ttraining's l2: 0.0820766\ttraining's auc: 0.953142\tvalid_1's l2: 0.133894\tvalid_1's auc: 0.771449\n",
      "[1300]\ttraining's l2: 0.0806591\ttraining's auc: 0.954959\tvalid_1's l2: 0.133909\tvalid_1's auc: 0.771598\n",
      "[1350]\ttraining's l2: 0.0792864\ttraining's auc: 0.956767\tvalid_1's l2: 0.133885\tvalid_1's auc: 0.77177\n",
      "[1400]\ttraining's l2: 0.0779622\ttraining's auc: 0.95842\tvalid_1's l2: 0.13392\tvalid_1's auc: 0.771644\n",
      "Early stopping, best iteration is:\n",
      "[446]\ttraining's l2: 0.112596\ttraining's auc: 0.89919\tvalid_1's l2: 0.134285\tvalid_1's auc: 0.772465\n"
     ]
    },
    {
     "data": {
      "text/plain": [
       "0.7724651154341885"
      ]
     },
     "execution_count": 36,
     "metadata": {},
     "output_type": "execute_result"
    }
   ],
   "source": [
    "feature = list(filter(lambda x: x not in ['flag','id','index'], X_train.columns))\n",
    "param = {\n",
    "    'num_leaves':70,\n",
    "    'objective':'binary',    \n",
    "    'max_depth':-1,\n",
    "    'reg_alpha':3,\n",
    "    'reg_lambda':5,\n",
    "    'colsample_bytree':0.77,\n",
    "    'random_state':1000,\n",
    "    'min_child_weight':4,\n",
    "    'min_child_samples':10,\n",
    "    'min_split_gain':0,\n",
    "    'learning_rate':0.01,\n",
    "    \"bagging_fraction\": 0.7,\n",
    "    \"feature_fraction\": 0.4,\n",
    "    'lambda_l1': 0.7,\n",
    "    'seed':2014,\n",
    "    'metric': {'l2', 'auc'}}\n",
    "submit_df = df_test[['id']]\n",
    "X_submit = df_test[feature]\n",
    "trn_data = lgb.Dataset(X_train, label=y_train)\n",
    "val_data = lgb.Dataset(X_valid, label=y_valid)\n",
    "lgbm = lgb.train(param,trn_data,valid_sets=[trn_data,val_data],num_boost_round = 20000 ,early_stopping_rounds=1000,verbose_eval=50)\n",
    "y_submit = lgbm.predict(X_submit)\n",
    "submit_df['Label'] = y_submit\n",
    "y_pred=lgbm.predict(X_valid)\n",
    "roc_auc_score(y_valid, y_pred) "
   ]
  },
  {
   "cell_type": "code",
   "execution_count": 96,
   "metadata": {},
   "outputs": [
    {
     "data": {
      "text/plain": [
       "<Figure size 1440x72000 with 0 Axes>"
      ]
     },
     "metadata": {},
     "output_type": "display_data"
    },
    {
     "data": {
      "image/png": "[encoded data removed]",
      "text/plain": [
       "<Figure size 432x288 with 1 Axes>"
      ]
     },
     "metadata": {
      "needs_background": "light"
     },
     "output_type": "display_data"
    }
   ],
   "source": [
    "plt.figure(figsize=(20,1000))\n",
    "lgb.plot_importance(lgbm, max_num_features=30)\n",
    "plt.title(\"Featurertances\")\n",
    "plt.show()"
   ]
  },
  {
   "cell_type": "code",
   "execution_count": 53,
   "metadata": {},
   "outputs": [],
   "source": [
    "t_str=time.strftime('%Y_%m%d_%H_%M',time.localtime(time.time()))     \n",
    "submit_df.to_csv(f\"submission_{t_str}.txt\",sep='\\t',index=False,header=0,encoding=\"utf_8\")"
   ]
  }
 ],
 "metadata": {
  "kernelspec": {
   "display_name": "Python 3",
   "language": "python",
   "name": "python3"
  },
  "language_info": {
   "codemirror_mode": {
    "name": "ipython",
    "version": 3
   },
   "file_extension": ".py",
   "mimetype": "text/x-python",
   "name": "python",
   "nbconvert_exporter": "python",
   "pygments_lexer": "ipython3",
   "version": "3.6.2"
  }
 },
 "nbformat": 4,
 "nbformat_minor": 4
}
